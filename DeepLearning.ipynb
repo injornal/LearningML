{
 "cells": [
  {
   "cell_type": "code",
   "execution_count": 41,
   "id": "72a2c536-085e-4471-9dc8-a425331b5b56",
   "metadata": {},
   "outputs": [],
   "source": [
    "from fastai.vision.all import *"
   ]
  },
  {
   "cell_type": "markdown",
   "id": "ca024aed-5b36-4748-bd96-bebe4d4eac0f",
   "metadata": {},
   "source": [
    "### MNIST AVERAGE"
   ]
  },
  {
   "cell_type": "code",
   "execution_count": 2,
   "id": "2647b15a-0a27-46f3-8701-46ceb663164b",
   "metadata": {},
   "outputs": [],
   "source": [
    "path = untar_data(URLs.MNIST_SAMPLE)"
   ]
  },
  {
   "cell_type": "code",
   "execution_count": 3,
   "id": "2a144988-8ad7-437a-aeff-ad0d5e84d372",
   "metadata": {},
   "outputs": [],
   "source": [
    "threes = (path / 'train' / '3').ls().sorted()\n",
    "sevens = (path / 'train' / '7').ls().sorted()"
   ]
  },
  {
   "cell_type": "code",
   "execution_count": 4,
   "id": "117b3bad-371b-49c7-a5f4-b984a1ef7a1c",
   "metadata": {},
   "outputs": [],
   "source": [
    "three_images = [tensor(Image.open(impath)) for impath in threes]\n",
    "seven_images = [tensor(Image.open(impath)) for impath in sevens]"
   ]
  },
  {
   "cell_type": "code",
   "execution_count": 5,
   "id": "5459b715-2810-46d0-b767-3982ec9dc280",
   "metadata": {},
   "outputs": [
    {
     "data": {
      "text/plain": [
       "<Axes: >"
      ]
     },
     "execution_count": 5,
     "metadata": {},
     "output_type": "execute_result"
    },
    {
     "data": {
      "image/png": "[encoded data removed]",
      "text/plain": [
       "<Figure size 100x100 with 1 Axes>"
      ]
     },
     "metadata": {},
     "output_type": "display_data"
    }
   ],
   "source": [
    "show_image(three_images[3])"
   ]
  },
  {
   "cell_type": "code",
   "execution_count": 6,
   "id": "b1801544-88c4-44bd-adf3-f39ce3b34cec",
   "metadata": {},
   "outputs": [],
   "source": [
    "stacked_threes = torch.stack(three_images[:-500]).float()/255\n",
    "stacked_sevens = torch.stack(seven_images[:-500]).float()/255"
   ]
  },
  {
   "cell_type": "code",
   "execution_count": 7,
   "id": "db7aede3-3b66-45d1-994b-0fdbb4a8d6b2",
   "metadata": {},
   "outputs": [],
   "source": [
    "three_test = torch.stack(three_images[-500:]).float()/255\n",
    "seven_test = torch.stack(seven_images[-500:]).float()/255"
   ]
  },
  {
   "cell_type": "code",
   "execution_count": 8,
   "id": "beaacdbe-6a5b-47c4-b1fe-da4deac0ac17",
   "metadata": {},
   "outputs": [],
   "source": [
    "three = stacked_threes.mean(0)\n",
    "seven = stacked_sevens.mean(0)"
   ]
  },
  {
   "cell_type": "code",
   "execution_count": 9,
   "id": "88e08744-eef9-4aed-9a7a-c4df7f4786ad",
   "metadata": {},
   "outputs": [],
   "source": [
    "def mse(t1, t2):\n",
    "    return ((t1 - t2)**2).mean().sqrt()"
   ]
  },
  {
   "cell_type": "code",
   "execution_count": 10,
   "id": "561ece96-9a8c-4bb0-b376-4a534d001482",
   "metadata": {},
   "outputs": [],
   "source": [
    "def is_3(image):\n",
    "    return mse(image, three) < mse(image, seven)"
   ]
  },
  {
   "cell_type": "code",
   "execution_count": 11,
   "id": "902e45e7-4fb1-42cb-9eb1-2b9368a71694",
   "metadata": {},
   "outputs": [],
   "source": [
    "def accuracy():\n",
    "    failed = 0\n",
    "    for test in three_test:\n",
    "        if not is_3(test):\n",
    "            failed += 1\n",
    "    for test in seven_test:\n",
    "        if is_3(test):\n",
    "            failed += 1\n",
    "    return 1 - (failed / (len(three_test) + len(seven_test)))"
   ]
  },
  {
   "cell_type": "code",
   "execution_count": 12,
   "id": "a14556fd-7af7-4454-bf60-12c5a10a8354",
   "metadata": {},
   "outputs": [
    {
     "data": {
      "text/plain": [
       "0.958"
      ]
     },
     "execution_count": 12,
     "metadata": {},
     "output_type": "execute_result"
    }
   ],
   "source": [
    "accuracy()"
   ]
  },
  {
   "cell_type": "markdown",
   "id": "95cc6e30-28d6-4465-8680-3824f8e6c9af",
   "metadata": {},
   "source": [
    "### STOCHASTIC GRADIENT DESCENT"
   ]
  },
  {
   "cell_type": "code",
   "execution_count": 27,
   "id": "8290be23-6996-422e-80d4-f87b138b9f3c",
   "metadata": {},
   "outputs": [],
   "source": [
    "torch.set_default_device(\"mps\")"
   ]
  },
  {
   "cell_type": "code",
   "execution_count": 28,
   "id": "5a76812d-9a96-4404-8672-635624873e62",
   "metadata": {},
   "outputs": [],
   "source": [
    "def f(time, params):\n",
    "    a, b, c = params\n",
    "    return a * (time ** 2) + b * time + c"
   ]
  },
  {
   "cell_type": "code",
   "execution_count": 29,
   "id": "526fc9a0-9222-41cc-bf44-4673bef918da",
   "metadata": {},
   "outputs": [
    {
     "data": {
      "text/plain": [
       "tensor([ 0.,  1.,  2.,  3.,  4.,  5.,  6.,  7.,  8.,  9., 10., 11., 12., 13.,\n",
       "        14., 15., 16., 17., 18., 19.], device='mps:0')"
      ]
     },
     "execution_count": 29,
     "metadata": {},
     "output_type": "execute_result"
    }
   ],
   "source": [
    "time_stamps = torch.arange(20).float()\n",
    "time_stamps"
   ]
  },
  {
   "cell_type": "code",
   "execution_count": 31,
   "id": "3787c195-058a-4687-add4-0553742fe55b",
   "metadata": {},
   "outputs": [
    {
     "data": {
      "text/plain": [
       "<matplotlib.collections.PathCollection at 0x31ab80ee0>"
      ]
     },
     "execution_count": 31,
     "metadata": {},
     "output_type": "execute_result"
    },
    {
     "data": {
      "image/png": "[encoded data removed]",
      "text/plain": [
       "<Figure size 640x480 with 1 Axes>"
      ]
     },
     "metadata": {},
     "output_type": "display_data"
    }
   ],
   "source": [
    "speeds = torch.randn(20) * 3 + .75 * (time_stamps - 9.5) ** 2 + 1\n",
    "plt.scatter(time_stamps.cpu(), speeds.cpu())"
   ]
  },
  {
   "cell_type": "code",
   "execution_count": 32,
   "id": "00d8f507-94f7-4271-8d68-d3e414d8823c",
   "metadata": {},
   "outputs": [
    {
     "data": {
      "text/plain": [
       "tensor([-3.1339, -1.0954,  0.0978], device='mps:0', requires_grad=True)"
      ]
     },
     "execution_count": 32,
     "metadata": {},
     "output_type": "execute_result"
    }
   ],
   "source": [
    "params = torch.randn(3).requires_grad_()\n",
    "params"
   ]
  },
  {
   "cell_type": "code",
   "execution_count": 34,
   "id": "16f19164-fbfa-4c03-af65-ae613114b5b6",
   "metadata": {},
   "outputs": [],
   "source": [
    "def epoch(params):\n",
    "    lr = 10 ** -5\n",
    "    preds = f(time_stamps, params)\n",
    "    loss = F.mse_loss(speeds, preds)\n",
    "    loss.backward()\n",
    "    params.data -= params.grad.data * lr\n",
    "    grad = params.grad\n",
    "    params.grad = None\n",
    "    return grad"
   ]
  },
  {
   "cell_type": "code",
   "execution_count": 35,
   "id": "b7668134-7ac9-4958-892f-5dca60fd08c4",
   "metadata": {},
   "outputs": [],
   "source": [
    "preds = f(time_stamps, params)"
   ]
  },
  {
   "cell_type": "code",
   "execution_count": 36,
   "id": "a76dd792-b334-4bf0-adb7-13eefbb37a71",
   "metadata": {},
   "outputs": [
    {
     "data": {
      "text/plain": [
       "<matplotlib.collections.PathCollection at 0x31abed4e0>"
      ]
     },
     "execution_count": 36,
     "metadata": {},
     "output_type": "execute_result"
    },
    {
     "data": {
      "image/png": "[encoded data removed]",
      "text/plain": [
       "<Figure size 640x480 with 1 Axes>"
      ]
     },
     "metadata": {},
     "output_type": "display_data"
    }
   ],
   "source": [
    "plt.scatter(time_stamps.cpu(), speeds.cpu())\n",
    "plt.scatter(time_stamps.cpu(), to_np(preds))"
   ]
  },
  {
   "cell_type": "code",
   "execution_count": 37,
   "id": "66b09788-6af6-4109-b868-0a691a9a3969",
   "metadata": {},
   "outputs": [
    {
     "data": {
      "text/plain": [
       "852.3222823143005"
      ]
     },
     "execution_count": 37,
     "metadata": {},
     "output_type": "execute_result"
    }
   ],
   "source": [
    "import time\n",
    "\n",
    "start = time.time()\n",
    "grad = epoch(params)\n",
    "while(grad.abs().mean() > .5): \n",
    "    grad = epoch(params)\n",
    "    \n",
    "end = time.time()\n",
    "end - start"
   ]
  },
  {
   "cell_type": "code",
   "execution_count": 39,
   "id": "09c4d456-cae8-4cb6-a639-aa871551d387",
   "metadata": {},
   "outputs": [
    {
     "data": {
      "text/plain": [
       "<matplotlib.collections.PathCollection at 0x31acdff10>"
      ]
     },
     "execution_count": 39,
     "metadata": {},
     "output_type": "execute_result"
    },
    {
     "data": {
      "image/png": "[encoded data removed]",
      "text/plain": [
       "<Figure size 640x480 with 1 Axes>"
      ]
     },
     "metadata": {},
     "output_type": "display_data"
    }
   ],
   "source": [
    "preds = f(time_stamps, params)\n",
    "plt.scatter(time_stamps.cpu(), speeds.cpu())\n",
    "plt.scatter(time_stamps.cpu(), to_np(preds))"
   ]
  }
 ],
 "metadata": {
  "kernelspec": {
   "display_name": "Python 3 (ipykernel)",
   "language": "python",
   "name": "python3"
  },
  "language_info": {
   "codemirror_mode": {
    "name": "ipython",
    "version": 3
   },
   "file_extension": ".py",
   "mimetype": "text/x-python",
   "name": "python",
   "nbconvert_exporter": "python",
   "pygments_lexer": "ipython3",
   "version": "3.10.14"
  }
 },
 "nbformat": 4,
 "nbformat_minor": 5
}
